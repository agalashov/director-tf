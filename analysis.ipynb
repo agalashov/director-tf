{
 "cells": [
  {
   "cell_type": "code",
   "execution_count": 4,
   "metadata": {},
   "outputs": [],
   "source": [
    "import numpy as np\n",
    "import matplotlib.pyplot as plt\n",
    "import os"
   ]
  },
  {
   "cell_type": "code",
   "execution_count": 8,
   "metadata": {},
   "outputs": [],
   "source": [
    "logs_dir = '/Users/agalashov/logdir/20230628-161058'\n",
    "eval_dir_name = 'eval_episodes'\n",
    "\n",
    "base_dir = os.path.join(logs_dir, eval_dir_name)\n",
    "\n",
    "for fname in os.listdir(base_dir):\n",
    "    break"
   ]
  },
  {
   "cell_type": "code",
   "execution_count": 20,
   "metadata": {},
   "outputs": [
    {
     "data": {
      "text/plain": [
       "['reward',\n",
       " 'is_first',\n",
       " 'is_last',\n",
       " 'is_terminal',\n",
       " 'image',\n",
       " 'walker/appendages_pos',\n",
       " 'walker/bodies_pos',\n",
       " 'walker/bodies_quats',\n",
       " 'walker/body_height',\n",
       " 'walker/egocentric_camera',\n",
       " 'walker/end_effectors_pos',\n",
       " 'walker/joints_pos',\n",
       " 'walker/joints_vel',\n",
       " 'walker/sensors_accelerometer',\n",
       " 'walker/sensors_gyro',\n",
       " 'walker/sensors_touch',\n",
       " 'walker/sensors_velocimeter',\n",
       " 'walker/world_zaxis',\n",
       " 'action',\n",
       " 'reset']"
      ]
     },
     "execution_count": 20,
     "metadata": {},
     "output_type": "execute_result"
    }
   ],
   "source": [
    "temp = np.load(os.path.join(base_dir, fname))\n",
    "temp.files\n"
   ]
  },
  {
   "cell_type": "code",
   "execution_count": null,
   "metadata": {},
   "outputs": [],
   "source": [
    "temp.get('')"
   ]
  },
  {
   "cell_type": "code",
   "execution_count": 24,
   "metadata": {},
   "outputs": [
    {
     "data": {
      "text/plain": [
       "0.0"
      ]
     },
     "execution_count": 24,
     "metadata": {},
     "output_type": "execute_result"
    }
   ],
   "source": [
    "temp.get('reward').mean()\n"
   ]
  },
  {
   "cell_type": "code",
   "execution_count": null,
   "metadata": {},
   "outputs": [],
   "source": []
  }
 ],
 "metadata": {
  "kernelspec": {
   "display_name": "unsupervised_rl",
   "language": "python",
   "name": "python3"
  },
  "language_info": {
   "codemirror_mode": {
    "name": "ipython",
    "version": 3
   },
   "file_extension": ".py",
   "mimetype": "text/x-python",
   "name": "python",
   "nbconvert_exporter": "python",
   "pygments_lexer": "ipython3",
   "version": "3.10.11"
  },
  "orig_nbformat": 4
 },
 "nbformat": 4,
 "nbformat_minor": 2
}
